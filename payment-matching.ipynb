{
  "nbformat": 4,
  "nbformat_minor": 0,
  "metadata": {
    "colab": {
      "name": "Problem1.ipynb",
      "provenance": [],
      "collapsed_sections": []
    },
    "kernelspec": {
      "name": "python3",
      "display_name": "Python 3",
      "language": "python"
    }
  },
  "cells": [
    {
      "cell_type": "code",
      "metadata": {
        "colab": {
          "base_uri": "https://localhost:8080/"
        },
        "id": "u6w5PD9-ELaj",
        "outputId": "e329f8c7-05d3-4c41-a7a9-323d836165c9"
      },
      "source": [
        "!pip install recordlinkage"
      ],
      "execution_count": 17,
      "outputs": [
        {
          "output_type": "stream",
          "text": [
            "Requirement already satisfied: recordlinkage in /usr/local/lib/python3.6/dist-packages (0.14)\n",
            "Requirement already satisfied: scipy>=1 in /usr/local/lib/python3.6/dist-packages (from recordlinkage) (1.4.1)\n",
            "Requirement already satisfied: jellyfish>=0.5.4 in /usr/local/lib/python3.6/dist-packages (from recordlinkage) (0.8.2)\n",
            "Requirement already satisfied: scikit-learn>=0.19.0 in /usr/local/lib/python3.6/dist-packages (from recordlinkage) (0.22.2.post1)\n",
            "Requirement already satisfied: pandas>=0.23 in /usr/local/lib/python3.6/dist-packages (from recordlinkage) (1.1.4)\n",
            "Requirement already satisfied: numpy>=1.13.0 in /usr/local/lib/python3.6/dist-packages (from recordlinkage) (1.18.5)\n",
            "Requirement already satisfied: joblib in /usr/local/lib/python3.6/dist-packages (from recordlinkage) (0.17.0)\n",
            "Requirement already satisfied: python-dateutil>=2.7.3 in /usr/local/lib/python3.6/dist-packages (from pandas>=0.23->recordlinkage) (2.8.1)\n",
            "Requirement already satisfied: pytz>=2017.2 in /usr/local/lib/python3.6/dist-packages (from pandas>=0.23->recordlinkage) (2018.9)\n",
            "Requirement already satisfied: six>=1.5 in /usr/local/lib/python3.6/dist-packages (from python-dateutil>=2.7.3->pandas>=0.23->recordlinkage) (1.15.0)\n"
          ],
          "name": "stdout"
        }
      ]
    },
    {
      "cell_type": "code",
      "execution_count": null,
      "metadata": {},
      "outputs": [],
      "source": [
        "!wget [REMOVED] -O data.zip"
      ]
    },
    {
      "cell_type": "code",
      "metadata": {
        "colab": {
          "base_uri": "https://localhost:8080/"
        },
        "id": "kaLjlQnSHHn3",
        "outputId": "68b683eb-3ea0-41c1-d445-7cf583593304"
      },
      "source": [
        "!unzip /content/data.zip"
      ],
      "execution_count": 19,
      "outputs": [
        {
          "output_type": "stream",
          "text": [
            "Archive:  /content/data.zip\n",
            "replace bank_statement.csv? [y]es, [n]o, [A]ll, [N]one, [r]ename: A\n",
            "  inflating: bank_statement.csv      \n",
            "  inflating: checkout.csv            \n"
          ],
          "name": "stdout"
        }
      ]
    },
    {
      "cell_type": "code",
      "metadata": {
        "id": "z4v5vbYxFkVE"
      },
      "source": [
        "import pandas as pd\n",
        "import recordlinkage"
      ],
      "execution_count": 2,
      "outputs": []
    },
    {
      "cell_type": "code",
      "metadata": {
        "id": "AcR9qSS2HlwS"
      },
      "source": [
        "bank = pd.read_csv('/content/bank_statement.csv', index_col='stmt_id')\n",
        "bank.sort_values('stmt_amount', inplace=True)"
      ],
      "execution_count": 3,
      "outputs": []
    },
    {
      "cell_type": "code",
      "metadata": {
        "id": "ndOesk3hHyuS"
      },
      "source": [
        "ckt = pd.read_csv('/content/checkout.csv', index_col='ckt_id')\n",
        "ckt.sort_values('ckt_amount', inplace=True)"
      ],
      "execution_count": 4,
      "outputs": []
    },
    {
      "cell_type": "code",
      "metadata": {
        "id": "CQFXMkHILge-"
      },
      "source": [
        "test_bank_1 = bank[bank[\"stmt_amount\"].isin([x / 100.0 for x in range(0, 1202)])]\n",
        "test_bank_2 = bank[bank[\"stmt_amount\"].isin([x / 100.0 for x in range(1200, 1602)])]\n",
        "test_bank_3 = bank[bank[\"stmt_amount\"].isin([x / 100.0 for x in range(1600, 2002)])]\n",
        "test_bank_4 = bank[bank[\"stmt_amount\"].isin([x / 100.0 for x in range(2000, 2402)])]\n",
        "test_bank_5 = bank[bank[\"stmt_amount\"].isin([x / 100.0 for x in range(2400, 2802)])]\n",
        "test_bank_6 = bank[bank[\"stmt_amount\"].isin([x / 100.0 for x in range(2800, 3202)])]\n",
        "test_bank_7 = bank[bank[\"stmt_amount\"].isin([x / 100.0 for x in range(3200, 3602)])]\n",
        "test_bank_8 = bank[bank[\"stmt_amount\"].isin([x / 100.0 for x in range(3600, 4002)])]\n",
        "test_bank_9 = bank[bank[\"stmt_amount\"].isin([x / 100.0 for x in range(4000, 3802)])]\n",
        "test_bank_10 = bank[bank[\"stmt_amount\"].isin([x / 100.0 for x in range(4800, 6002)])]\n",
        "test_bank_11 = bank[bank[\"stmt_amount\"].isin([x / 100.0 for x in range(6000, 8002)])]\n",
        "test_bank_12 = bank[bank[\"stmt_amount\"].isin([x / 100.0 for x in range(8000, 11602)])]\n",
        "test_bank_13 = bank[bank[\"stmt_amount\"].isin([x / 100.0 for x in range(11600, 20002)])]"
      ],
      "execution_count": 23,
      "outputs": []
    },
    {
      "cell_type": "code",
      "metadata": {
        "id": "sJPgXBGhZfL7"
      },
      "source": [
        "test_ckt_1 = ckt[ckt[\"ckt_amount\"].isin([x / 100.0 for x in range(0, 1202)])]\n",
        "test_ckt_2 = ckt[ckt[\"ckt_amount\"].isin([x / 100.0 for x in range(1200, 1602)])]\n",
        "test_ckt_3 = ckt[ckt[\"ckt_amount\"].isin([x / 100.0 for x in range(1600, 2002)])]\n",
        "test_ckt_4 = ckt[ckt[\"ckt_amount\"].isin([x / 100.0 for x in range(2000, 2402)])]\n",
        "test_ckt_5 = ckt[ckt[\"ckt_amount\"].isin([x / 100.0 for x in range(2400, 2802)])]\n",
        "test_ckt_6 = ckt[ckt[\"ckt_amount\"].isin([x / 100.0 for x in range(2800, 3202)])]\n",
        "test_ckt_7 = ckt[ckt[\"ckt_amount\"].isin([x / 100.0 for x in range(3200, 3602)])]\n",
        "test_ckt_8 = ckt[ckt[\"ckt_amount\"].isin([x / 100.0 for x in range(3600, 4002)])]\n",
        "test_ckt_9 = ckt[ckt[\"ckt_amount\"].isin([x / 100.0 for x in range(4000, 3802)])]\n",
        "test_ckt_10 = ckt[ckt[\"ckt_amount\"].isin([x / 100.0 for x in range(4800, 6002)])]\n",
        "test_ckt_11 = ckt[ckt[\"ckt_amount\"].isin([x / 100.0 for x in range(6000, 8002)])]\n",
        "test_ckt_12 = ckt[ckt[\"ckt_amount\"].isin([x / 100.0 for x in range(8000, 11602)])]\n",
        "test_ckt_13 = ckt[ckt[\"ckt_amount\"].isin([x / 100.0 for x in range(11600, 20002)])]"
      ],
      "execution_count": 24,
      "outputs": []
    },
    {
      "cell_type": "code",
      "metadata": {
        "id": "jNSyFOLde0N0"
      },
      "source": [
        "def create_csv(test_bank, test_ckt, n):\n",
        "    #test_bank = 'test_bank_'+n\n",
        "    #test_ckt = 'test_ckt_'+n\n",
        "    csv_fname = '/content/Hasil2/'+n+'.csv'\n",
        "\n",
        "    # print(test_bank)\n",
        "    # print(test_ckt)\n",
        "    # print(csv_fname)\n",
        "\n",
        "    candidates = indexer.indeindexer = recordlinkage.Index()\n",
        "    indexer.block(left_on='stmt_amount', right_on='ckt_amount')\n",
        "    candidates = indexer.index(test_bank, test_ckt)\n",
        "    print(len(candidates))\n",
        "\n",
        "    compare = recordlinkage.Compare()\n",
        "    compare.string('desc',\n",
        "                'buyer_name',\n",
        "                #threshold=0.31,\n",
        "                threshold=0.25,\n",
        "                label='desc_name')\n",
        "    compare.exact('stmt_amount', 'ckt_amount', label='amount')\n",
        "\n",
        "    features = compare.compute(candidates, test_bank,\n",
        "                            test_ckt)\n",
        "\n",
        "    potential_matches = features[features.sum(axis=1) > 1].reset_index()\n",
        "    potential_matches['Score'] = potential_matches.loc[:, 'desc_name':'amount'].sum(axis=1)\n",
        "    potential_matches.to_csv(csv_fname)"
      ],
      "execution_count": 72,
      "outputs": []
    },
    {
      "cell_type": "code",
      "metadata": {
        "colab": {
          "base_uri": "https://localhost:8080/"
        },
        "id": "11omcFmefX4i",
        "outputId": "be7a6de0-1363-447c-9547-08de4fd00b87"
      },
      "source": [
        "create_csv(test_bank_1, test_ckt_1, '1')\n",
        "create_csv(test_bank_2, test_ckt_2, '2')\n",
        "create_csv(test_bank_3, test_ckt_3, '3')\n",
        "create_csv(test_bank_4, test_ckt_4, '4')\n",
        "create_csv(test_bank_5, test_ckt_5, '5')\n",
        "create_csv(test_bank_6, test_ckt_6, '6')\n",
        "create_csv(test_bank_7, test_ckt_7, '7')\n",
        "create_csv(test_bank_8, test_ckt_8, '8')\n",
        "create_csv(test_bank_9, test_ckt_9, '9')\n",
        "create_csv(test_bank_10, test_ckt_10, '10')\n",
        "create_csv(test_bank_11, test_ckt_11, '11')\n",
        "create_csv(test_bank_12, test_ckt_12, '12')\n",
        "create_csv(test_bank_13, test_ckt_13, '13')"
      ],
      "execution_count": 73,
      "outputs": [
        {
          "output_type": "stream",
          "text": [
            "2444079\n",
            "3018435\n",
            "3703775\n",
            "3369859\n",
            "2570227\n",
            "2244758\n",
            "1865858\n",
            "1491494\n"
          ],
          "name": "stdout"
        },
        {
          "output_type": "stream",
          "text": [
            "/usr/local/lib/python3.6/dist-packages/recordlinkage/base.py:139: RuntimeWarning: invalid value encountered in long_scalars\n",
            "  rr = 1 - n / n_max\n"
          ],
          "name": "stderr"
        },
        {
          "output_type": "stream",
          "text": [
            "0\n",
            "1756739\n",
            "1048622\n",
            "653524\n",
            "276824\n"
          ],
          "name": "stdout"
        }
      ]
    },
    {
      "cell_type": "code",
      "metadata": {
        "id": "oVYr7cPLeYTG"
      },
      "source": [
        "import glob\n",
        "\n",
        "path = r'/content/Hasil' # use your path\n",
        "all_files = glob.glob(path + \"/*.csv\")\n",
        "\n",
        "li = []\n",
        "\n",
        "for filename in all_files:\n",
        "    df = pd.read_csv(filename, index_col=None, header=0)\n",
        "    li.append(df)\n",
        "\n",
        "frame = pd.concat(li, axis=0, ignore_index=True)"
      ],
      "execution_count": 40,
      "outputs": []
    },
    {
      "cell_type": "code",
      "metadata": {
        "id": "g2FF-AClNahx"
      },
      "source": [
        "subs = frame.drop(['Unnamed: 0', 'desc_name', 'amount', 'Score'], axis=1)\n",
        "subs.drop_duplicates('stmt_id', inplace=True)\n",
        "subs.drop_duplicates('ckt_id', inplace=True)"
      ],
      "execution_count": 69,
      "outputs": []
    },
    {
      "cell_type": "code",
      "metadata": {
        "id": "BL9o_0uThxoV"
      },
      "source": [],
      "execution_count": 69,
      "outputs": []
    },
    {
      "cell_type": "code",
      "metadata": {
        "id": "34eMz7wcjhOT"
      },
      "source": [
        "my_subs = pd.read_csv('/content/bank_statement.csv')\n",
        "my_subs.sort_values('stmt_amount', inplace=True)\n",
        "my_subs.drop(['stmt_amount', 'desc'], axis=1, inplace=True)\n",
        "submission = pd.merge(my_subs, subs, on='stmt_id', how='left')\n",
        "submission.sort_values('stmt_id', inplace=True)"
      ],
      "execution_count": 70,
      "outputs": []
    },
    {
      "cell_type": "code",
      "metadata": {
        "id": "0YmjLBjgjkGN"
      },
      "source": [
        "submission.to_csv('/content/Hasil/subs1.csv', index=False)"
      ],
      "execution_count": 71,
      "outputs": []
    },
    {
      "cell_type": "code",
      "metadata": {
        "id": "xoA7gn0Rknfc"
      },
      "source": [],
      "execution_count": null,
      "outputs": []
    }
  ]
}